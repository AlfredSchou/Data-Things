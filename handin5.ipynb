{
 "cells": [
  {
   "cell_type": "markdown",
   "metadata": {
    "id": "3kQ3BvyLehMH"
   },
   "source": [
    "## **Time Series Analysis Task Notebook**\n",
    "\n",
    "This notebook is designed to test you through various Time Series Analysis tasks using the Bike Sharing dataset. The tasks will help you develop essential skills in handling time-based data, including cleaning and preprocessing, feature engineering, and model building. You'll explore techniques such as creating lag and rolling window features, implementing linear regression for time series prediction, and applying XGBoost with hyperparameter tuning. Finally, you'll evaluate and compare the performance of the models, providing insights into their effectiveness. These tasks will enhance your understanding of time series analysis and prepare you for real-world forecasting challenges."
   ]
  },
  {
   "cell_type": "markdown",
   "metadata": {
    "id": "-6dqpBX8eayc"
   },
   "source": [
    "# **About the Dataset**\n",
    "The Bike Sharing Dataset contains information about bike rental counts in the city of Washington, D.C., recorded at hourly intervals. The dataset provides data on various factors that influence bike rentals, including weather conditions, time of day, and seasonal factors. It includes several features such as temperature, humidity, wind speed, and day of the week, which can be used for building predictive models to forecast bike rental demand.\n",
    "\n",
    "The dataset spans multiple years and captures the number of bikes rented at each hour of the day, making it ideal for time series analysis. By leveraging this data, you can explore patterns in bike rentals over time, uncover seasonality, and implement models for predicting future rental demand.\n",
    "\n",
    "\n",
    "\n",
    "\n",
    "\n",
    "## **Key Attributes in the Dataset:**\n",
    "\n",
    "**instant:** Record index.\n",
    "\n",
    "**dteday:** Date of the observation.\n",
    "\n",
    "**season:** The season (1: Spring, 2: Summer, 3: Fall, 4: Winter).\n",
    "\n",
    "**yr:** Year (0: 2011, 1: 2012).\n",
    "\n",
    "**mnth:** Month of the year (1 to 12).\n",
    "\n",
    "**hour:** Hour of the day (0 to 23).\n",
    "\n",
    "**holiday:** Whether the day is a holiday (1: Yes, 0: No).\n",
    "\n",
    "**weekday:** Day of the week (0 to 6).\n",
    "\n",
    "**workingday:** Whether it's a working day (1: Yes, 0: No).\n",
    "\n",
    "**weathersit:** Weather condition (1: Clear, 2: Mist, 3: Light Rain, 4: Heavy Rain).\n",
    "\n",
    "**temp:** Temperature (normalized).\n",
    "\n",
    "**hum:** Humidity (normalized).\n",
    "\n",
    "**windspeed:** Wind speed (normalized).\n",
    "\n",
    "**cnt:** The total number of bike rentals at that hour.\n",
    "\n",
    "This dataset offers a comprehensive set of features to explore and analyze bike-sharing patterns, making it an excellent resource for time series forecasting tasks."
   ]
  },
  {
   "cell_type": "markdown",
   "metadata": {
    "id": "-NWx-vJNwTmj"
   },
   "source": [
    "## **Exercise**\n",
    "\n",
    "1. Load the [dataset](https://www.kaggle.com/datasets/lakshmi25npathi/bike-sharing-dataset) from Kaggle. Use the \"hour.csv\" file.\n",
    "2. Visualize the structure of the dataset using appropriate libraries and plots.\n",
    "3. Clean and pre-process the dataset as required and prepare the data for modelling.\n",
    "4. Create the lag and rolling windows features for the \"cnt\" column such as: 1 day lag, 1 week lag, 1 month, etc. and last 3 day rolling mean, last 3 hours rolling mean, etc. But it should be based on your dataset and what makes sense for this dataset.\n",
    "5. Implement linear regression to predict how many bikes will be rented each hour of the last week and evaluate using appropriate metrics.\n",
    "6. Implement XGBoost to predict how many bikes will be rented each hour of the last week and evaluate using appropriate metrics.\n",
    "7. Experiment with predicting different time periods, such as use all data to predict bike rentals for just the next day (24 hours) or the next entire month and then see how much better or worse the model gets\n",
    "8. Experiment tuning hyperparameters\n",
    "\n",
    "**Bonus task (Optional)**\n",
    "\n",
    "This tasks is not mandatory, but it is designed for those who want to challenge themselves, enhance their critical thinking skills, or dive deeper into the topic. If you're eager to learn more or test your understanding, this task can provide additional learning opportunities.\n",
    "1. Modelling: Implement an ARIMA model, evaluate it using relevant plots and provide a summary analysis .\n",
    "  \n"
   ]
  },
  {
   "cell_type": "code",
   "execution_count": 29,
   "metadata": {},
   "outputs": [],
   "source": [
    "import pandas as pd\n",
    "import numpy as np\n",
    "import matplotlib.pyplot as plt\n",
    "import kagglehub\n",
    "import xgboost as xgb\n",
    "from sklearn.metrics import root_mean_squared_error, r2_score"
   ]
  },
  {
   "cell_type": "code",
   "execution_count": 7,
   "metadata": {},
   "outputs": [
    {
     "name": "stdout",
     "output_type": "stream",
     "text": [
      "Path to dataset files: C:\\Users\\abjar\\.cache\\kagglehub\\datasets\\lakshmi25npathi\\bike-sharing-dataset\\versions\\1\n"
     ]
    }
   ],
   "source": [
    "download_path = kagglehub.dataset_download(\"lakshmi25npathi/bike-sharing-dataset\")\n",
    "\n",
    "print(\"Path to dataset files:\", download_path)\n"
   ]
  },
  {
   "cell_type": "code",
   "execution_count": 8,
   "metadata": {},
   "outputs": [
    {
     "data": {
      "text/html": [
       "<div>\n",
       "<style scoped>\n",
       "    .dataframe tbody tr th:only-of-type {\n",
       "        vertical-align: middle;\n",
       "    }\n",
       "\n",
       "    .dataframe tbody tr th {\n",
       "        vertical-align: top;\n",
       "    }\n",
       "\n",
       "    .dataframe thead th {\n",
       "        text-align: right;\n",
       "    }\n",
       "</style>\n",
       "<table border=\"1\" class=\"dataframe\">\n",
       "  <thead>\n",
       "    <tr style=\"text-align: right;\">\n",
       "      <th></th>\n",
       "      <th>instant</th>\n",
       "      <th>dteday</th>\n",
       "      <th>season</th>\n",
       "      <th>yr</th>\n",
       "      <th>mnth</th>\n",
       "      <th>hr</th>\n",
       "      <th>holiday</th>\n",
       "      <th>weekday</th>\n",
       "      <th>workingday</th>\n",
       "      <th>weathersit</th>\n",
       "      <th>temp</th>\n",
       "      <th>atemp</th>\n",
       "      <th>hum</th>\n",
       "      <th>windspeed</th>\n",
       "      <th>casual</th>\n",
       "      <th>registered</th>\n",
       "      <th>cnt</th>\n",
       "    </tr>\n",
       "  </thead>\n",
       "  <tbody>\n",
       "    <tr>\n",
       "      <th>0</th>\n",
       "      <td>1</td>\n",
       "      <td>2011-01-01</td>\n",
       "      <td>1</td>\n",
       "      <td>0</td>\n",
       "      <td>1</td>\n",
       "      <td>0</td>\n",
       "      <td>0</td>\n",
       "      <td>6</td>\n",
       "      <td>0</td>\n",
       "      <td>1</td>\n",
       "      <td>0.24</td>\n",
       "      <td>0.2879</td>\n",
       "      <td>0.81</td>\n",
       "      <td>0.0</td>\n",
       "      <td>3</td>\n",
       "      <td>13</td>\n",
       "      <td>16</td>\n",
       "    </tr>\n",
       "    <tr>\n",
       "      <th>1</th>\n",
       "      <td>2</td>\n",
       "      <td>2011-01-01</td>\n",
       "      <td>1</td>\n",
       "      <td>0</td>\n",
       "      <td>1</td>\n",
       "      <td>1</td>\n",
       "      <td>0</td>\n",
       "      <td>6</td>\n",
       "      <td>0</td>\n",
       "      <td>1</td>\n",
       "      <td>0.22</td>\n",
       "      <td>0.2727</td>\n",
       "      <td>0.80</td>\n",
       "      <td>0.0</td>\n",
       "      <td>8</td>\n",
       "      <td>32</td>\n",
       "      <td>40</td>\n",
       "    </tr>\n",
       "    <tr>\n",
       "      <th>2</th>\n",
       "      <td>3</td>\n",
       "      <td>2011-01-01</td>\n",
       "      <td>1</td>\n",
       "      <td>0</td>\n",
       "      <td>1</td>\n",
       "      <td>2</td>\n",
       "      <td>0</td>\n",
       "      <td>6</td>\n",
       "      <td>0</td>\n",
       "      <td>1</td>\n",
       "      <td>0.22</td>\n",
       "      <td>0.2727</td>\n",
       "      <td>0.80</td>\n",
       "      <td>0.0</td>\n",
       "      <td>5</td>\n",
       "      <td>27</td>\n",
       "      <td>32</td>\n",
       "    </tr>\n",
       "    <tr>\n",
       "      <th>3</th>\n",
       "      <td>4</td>\n",
       "      <td>2011-01-01</td>\n",
       "      <td>1</td>\n",
       "      <td>0</td>\n",
       "      <td>1</td>\n",
       "      <td>3</td>\n",
       "      <td>0</td>\n",
       "      <td>6</td>\n",
       "      <td>0</td>\n",
       "      <td>1</td>\n",
       "      <td>0.24</td>\n",
       "      <td>0.2879</td>\n",
       "      <td>0.75</td>\n",
       "      <td>0.0</td>\n",
       "      <td>3</td>\n",
       "      <td>10</td>\n",
       "      <td>13</td>\n",
       "    </tr>\n",
       "    <tr>\n",
       "      <th>4</th>\n",
       "      <td>5</td>\n",
       "      <td>2011-01-01</td>\n",
       "      <td>1</td>\n",
       "      <td>0</td>\n",
       "      <td>1</td>\n",
       "      <td>4</td>\n",
       "      <td>0</td>\n",
       "      <td>6</td>\n",
       "      <td>0</td>\n",
       "      <td>1</td>\n",
       "      <td>0.24</td>\n",
       "      <td>0.2879</td>\n",
       "      <td>0.75</td>\n",
       "      <td>0.0</td>\n",
       "      <td>0</td>\n",
       "      <td>1</td>\n",
       "      <td>1</td>\n",
       "    </tr>\n",
       "  </tbody>\n",
       "</table>\n",
       "</div>"
      ],
      "text/plain": [
       "   instant      dteday  season  yr  mnth  hr  holiday  weekday  workingday  \\\n",
       "0        1  2011-01-01       1   0     1   0        0        6           0   \n",
       "1        2  2011-01-01       1   0     1   1        0        6           0   \n",
       "2        3  2011-01-01       1   0     1   2        0        6           0   \n",
       "3        4  2011-01-01       1   0     1   3        0        6           0   \n",
       "4        5  2011-01-01       1   0     1   4        0        6           0   \n",
       "\n",
       "   weathersit  temp   atemp   hum  windspeed  casual  registered  cnt  \n",
       "0           1  0.24  0.2879  0.81        0.0       3          13   16  \n",
       "1           1  0.22  0.2727  0.80        0.0       8          32   40  \n",
       "2           1  0.22  0.2727  0.80        0.0       5          27   32  \n",
       "3           1  0.24  0.2879  0.75        0.0       3          10   13  \n",
       "4           1  0.24  0.2879  0.75        0.0       0           1    1  "
      ]
     },
     "execution_count": 8,
     "metadata": {},
     "output_type": "execute_result"
    }
   ],
   "source": [
    "# Load the dataset from the downloaded path\n",
    "df= pd.read_csv(f\"{download_path}/hour.csv\")\n",
    "\n",
    "# Display first few rows\n",
    "df.head()"
   ]
  },
  {
   "cell_type": "markdown",
   "metadata": {},
   "source": [
    "Clean and pre-process the dataset as required and prepare the data for modelling."
   ]
  },
  {
   "cell_type": "code",
   "execution_count": 9,
   "metadata": {},
   "outputs": [
    {
     "name": "stdout",
     "output_type": "stream",
     "text": [
      "<class 'pandas.core.frame.DataFrame'>\n",
      "RangeIndex: 17379 entries, 0 to 17378\n",
      "Data columns (total 17 columns):\n",
      " #   Column      Non-Null Count  Dtype  \n",
      "---  ------      --------------  -----  \n",
      " 0   instant     17379 non-null  int64  \n",
      " 1   dteday      17379 non-null  object \n",
      " 2   season      17379 non-null  int64  \n",
      " 3   yr          17379 non-null  int64  \n",
      " 4   mnth        17379 non-null  int64  \n",
      " 5   hr          17379 non-null  int64  \n",
      " 6   holiday     17379 non-null  int64  \n",
      " 7   weekday     17379 non-null  int64  \n",
      " 8   workingday  17379 non-null  int64  \n",
      " 9   weathersit  17379 non-null  int64  \n",
      " 10  temp        17379 non-null  float64\n",
      " 11  atemp       17379 non-null  float64\n",
      " 12  hum         17379 non-null  float64\n",
      " 13  windspeed   17379 non-null  float64\n",
      " 14  casual      17379 non-null  int64  \n",
      " 15  registered  17379 non-null  int64  \n",
      " 16  cnt         17379 non-null  int64  \n",
      "dtypes: float64(4), int64(12), object(1)\n",
      "memory usage: 2.3+ MB\n"
     ]
    }
   ],
   "source": [
    "df.info()\n",
    "\n"
   ]
  },
  {
   "cell_type": "code",
   "execution_count": 10,
   "metadata": {},
   "outputs": [
    {
     "name": "stdout",
     "output_type": "stream",
     "text": [
      "Missing Values: instant       0\n",
      "dteday        0\n",
      "season        0\n",
      "yr            0\n",
      "mnth          0\n",
      "hr            0\n",
      "holiday       0\n",
      "weekday       0\n",
      "workingday    0\n",
      "weathersit    0\n",
      "temp          0\n",
      "atemp         0\n",
      "hum           0\n",
      "windspeed     0\n",
      "casual        0\n",
      "registered    0\n",
      "cnt           0\n",
      "dtype: int64\n",
      "\n",
      "Duplicate Rows: 17379\n"
     ]
    }
   ],
   "source": [
    "# Check for missing values\n",
    "print(\"Missing Values:\", df.isnull().sum())\n",
    "\n",
    "# Check for duplicates\n",
    "print(\"\\nDuplicate Rows:\", df.duplicated().count())"
   ]
  },
  {
   "cell_type": "markdown",
   "metadata": {},
   "source": [
    "i have decided to drop, instant, as it is just for indexing and not usable for modeling, also, im also dropping both casual and registered, as im only interested in the full count "
   ]
  },
  {
   "cell_type": "code",
   "execution_count": 11,
   "metadata": {},
   "outputs": [
    {
     "name": "stdout",
     "output_type": "stream",
     "text": [
      "<class 'pandas.core.frame.DataFrame'>\n",
      "RangeIndex: 17379 entries, 0 to 17378\n",
      "Data columns (total 14 columns):\n",
      " #   Column      Non-Null Count  Dtype         \n",
      "---  ------      --------------  -----         \n",
      " 0   dteday      17379 non-null  datetime64[ns]\n",
      " 1   season      17379 non-null  int64         \n",
      " 2   yr          17379 non-null  int64         \n",
      " 3   mnth        17379 non-null  int64         \n",
      " 4   hr          17379 non-null  int64         \n",
      " 5   holiday     17379 non-null  int64         \n",
      " 6   weekday     17379 non-null  int64         \n",
      " 7   workingday  17379 non-null  int64         \n",
      " 8   weathersit  17379 non-null  int64         \n",
      " 9   temp        17379 non-null  float64       \n",
      " 10  atemp       17379 non-null  float64       \n",
      " 11  hum         17379 non-null  float64       \n",
      " 12  windspeed   17379 non-null  float64       \n",
      " 13  cnt         17379 non-null  int64         \n",
      "dtypes: datetime64[ns](1), float64(4), int64(9)\n",
      "memory usage: 1.9 MB\n"
     ]
    }
   ],
   "source": [
    "# Convert dteday to datetime format (but keep it as a column)\n",
    "df[\"dteday\"] = pd.to_datetime(df[\"dteday\"])\n",
    "\n",
    "# Drop unnecessary columns\n",
    "df.drop(columns=[\"instant\", \"casual\", \"registered\"], inplace=True)\n",
    "\n",
    "# Verify changes\n",
    "df.info()"
   ]
  },
  {
   "cell_type": "markdown",
   "metadata": {},
   "source": [
    "Create the lag and rolling windows features for the \"cnt\" column such as: 1 day lag, 1 week lag, 1 month, etc. and last 3 day rolling mean, last 3 hours rolling mean, etc. But it should be based on your dataset and what makes sense for this dataset."
   ]
  },
  {
   "cell_type": "markdown",
   "metadata": {},
   "source": [
    "for lag functions i have decided to go with 1h, 1d, 7d, and 30d, these help capture stuff like short term demand, daily patterns, weekly patterns like weekdays vs weekend, and lastly capturing seasonality, checking fluctiuations in demand with weather, holidays, etc.\n",
    "\n",
    "for rolling mean i went with 3h, 6h, and 7d. they help with capturing short term demand and morning vs evening demand, and weekly changes in demand. "
   ]
  },
  {
   "cell_type": "markdown",
   "metadata": {},
   "source": [
    "lastly since these functions create some missing values in the beginning of the dataset, i fill the missing values with 0s"
   ]
  },
  {
   "cell_type": "code",
   "execution_count": 12,
   "metadata": {},
   "outputs": [
    {
     "data": {
      "text/html": [
       "<div>\n",
       "<style scoped>\n",
       "    .dataframe tbody tr th:only-of-type {\n",
       "        vertical-align: middle;\n",
       "    }\n",
       "\n",
       "    .dataframe tbody tr th {\n",
       "        vertical-align: top;\n",
       "    }\n",
       "\n",
       "    .dataframe thead th {\n",
       "        text-align: right;\n",
       "    }\n",
       "</style>\n",
       "<table border=\"1\" class=\"dataframe\">\n",
       "  <thead>\n",
       "    <tr style=\"text-align: right;\">\n",
       "      <th></th>\n",
       "      <th>dteday</th>\n",
       "      <th>season</th>\n",
       "      <th>yr</th>\n",
       "      <th>mnth</th>\n",
       "      <th>hr</th>\n",
       "      <th>holiday</th>\n",
       "      <th>weekday</th>\n",
       "      <th>workingday</th>\n",
       "      <th>weathersit</th>\n",
       "      <th>temp</th>\n",
       "      <th>...</th>\n",
       "      <th>hum</th>\n",
       "      <th>windspeed</th>\n",
       "      <th>cnt</th>\n",
       "      <th>cnt_lag_1h</th>\n",
       "      <th>cnt_lag_1d</th>\n",
       "      <th>cnt_lag_7d</th>\n",
       "      <th>cnt_lag_30d</th>\n",
       "      <th>cnt_roll_3h</th>\n",
       "      <th>cnt_roll_6h</th>\n",
       "      <th>cnt_roll_7d</th>\n",
       "    </tr>\n",
       "  </thead>\n",
       "  <tbody>\n",
       "    <tr>\n",
       "      <th>0</th>\n",
       "      <td>2011-01-01</td>\n",
       "      <td>1</td>\n",
       "      <td>0</td>\n",
       "      <td>1</td>\n",
       "      <td>0</td>\n",
       "      <td>0</td>\n",
       "      <td>6</td>\n",
       "      <td>0</td>\n",
       "      <td>1</td>\n",
       "      <td>0.24</td>\n",
       "      <td>...</td>\n",
       "      <td>0.81</td>\n",
       "      <td>0.0</td>\n",
       "      <td>16</td>\n",
       "      <td>0.0</td>\n",
       "      <td>0.0</td>\n",
       "      <td>0.0</td>\n",
       "      <td>0.0</td>\n",
       "      <td>0.000000</td>\n",
       "      <td>0.0</td>\n",
       "      <td>0.0</td>\n",
       "    </tr>\n",
       "    <tr>\n",
       "      <th>1</th>\n",
       "      <td>2011-01-01</td>\n",
       "      <td>1</td>\n",
       "      <td>0</td>\n",
       "      <td>1</td>\n",
       "      <td>1</td>\n",
       "      <td>0</td>\n",
       "      <td>6</td>\n",
       "      <td>0</td>\n",
       "      <td>1</td>\n",
       "      <td>0.22</td>\n",
       "      <td>...</td>\n",
       "      <td>0.80</td>\n",
       "      <td>0.0</td>\n",
       "      <td>40</td>\n",
       "      <td>16.0</td>\n",
       "      <td>0.0</td>\n",
       "      <td>0.0</td>\n",
       "      <td>0.0</td>\n",
       "      <td>0.000000</td>\n",
       "      <td>0.0</td>\n",
       "      <td>0.0</td>\n",
       "    </tr>\n",
       "    <tr>\n",
       "      <th>2</th>\n",
       "      <td>2011-01-01</td>\n",
       "      <td>1</td>\n",
       "      <td>0</td>\n",
       "      <td>1</td>\n",
       "      <td>2</td>\n",
       "      <td>0</td>\n",
       "      <td>6</td>\n",
       "      <td>0</td>\n",
       "      <td>1</td>\n",
       "      <td>0.22</td>\n",
       "      <td>...</td>\n",
       "      <td>0.80</td>\n",
       "      <td>0.0</td>\n",
       "      <td>32</td>\n",
       "      <td>40.0</td>\n",
       "      <td>0.0</td>\n",
       "      <td>0.0</td>\n",
       "      <td>0.0</td>\n",
       "      <td>29.333333</td>\n",
       "      <td>0.0</td>\n",
       "      <td>0.0</td>\n",
       "    </tr>\n",
       "    <tr>\n",
       "      <th>3</th>\n",
       "      <td>2011-01-01</td>\n",
       "      <td>1</td>\n",
       "      <td>0</td>\n",
       "      <td>1</td>\n",
       "      <td>3</td>\n",
       "      <td>0</td>\n",
       "      <td>6</td>\n",
       "      <td>0</td>\n",
       "      <td>1</td>\n",
       "      <td>0.24</td>\n",
       "      <td>...</td>\n",
       "      <td>0.75</td>\n",
       "      <td>0.0</td>\n",
       "      <td>13</td>\n",
       "      <td>32.0</td>\n",
       "      <td>0.0</td>\n",
       "      <td>0.0</td>\n",
       "      <td>0.0</td>\n",
       "      <td>28.333333</td>\n",
       "      <td>0.0</td>\n",
       "      <td>0.0</td>\n",
       "    </tr>\n",
       "    <tr>\n",
       "      <th>4</th>\n",
       "      <td>2011-01-01</td>\n",
       "      <td>1</td>\n",
       "      <td>0</td>\n",
       "      <td>1</td>\n",
       "      <td>4</td>\n",
       "      <td>0</td>\n",
       "      <td>6</td>\n",
       "      <td>0</td>\n",
       "      <td>1</td>\n",
       "      <td>0.24</td>\n",
       "      <td>...</td>\n",
       "      <td>0.75</td>\n",
       "      <td>0.0</td>\n",
       "      <td>1</td>\n",
       "      <td>13.0</td>\n",
       "      <td>0.0</td>\n",
       "      <td>0.0</td>\n",
       "      <td>0.0</td>\n",
       "      <td>15.333333</td>\n",
       "      <td>0.0</td>\n",
       "      <td>0.0</td>\n",
       "    </tr>\n",
       "  </tbody>\n",
       "</table>\n",
       "<p>5 rows × 21 columns</p>\n",
       "</div>"
      ],
      "text/plain": [
       "      dteday  season  yr  mnth  hr  holiday  weekday  workingday  weathersit  \\\n",
       "0 2011-01-01       1   0     1   0        0        6           0           1   \n",
       "1 2011-01-01       1   0     1   1        0        6           0           1   \n",
       "2 2011-01-01       1   0     1   2        0        6           0           1   \n",
       "3 2011-01-01       1   0     1   3        0        6           0           1   \n",
       "4 2011-01-01       1   0     1   4        0        6           0           1   \n",
       "\n",
       "   temp  ...   hum  windspeed  cnt  cnt_lag_1h  cnt_lag_1d  cnt_lag_7d  \\\n",
       "0  0.24  ...  0.81        0.0   16         0.0         0.0         0.0   \n",
       "1  0.22  ...  0.80        0.0   40        16.0         0.0         0.0   \n",
       "2  0.22  ...  0.80        0.0   32        40.0         0.0         0.0   \n",
       "3  0.24  ...  0.75        0.0   13        32.0         0.0         0.0   \n",
       "4  0.24  ...  0.75        0.0    1        13.0         0.0         0.0   \n",
       "\n",
       "   cnt_lag_30d  cnt_roll_3h  cnt_roll_6h  cnt_roll_7d  \n",
       "0          0.0     0.000000          0.0          0.0  \n",
       "1          0.0     0.000000          0.0          0.0  \n",
       "2          0.0    29.333333          0.0          0.0  \n",
       "3          0.0    28.333333          0.0          0.0  \n",
       "4          0.0    15.333333          0.0          0.0  \n",
       "\n",
       "[5 rows x 21 columns]"
      ]
     },
     "execution_count": 12,
     "metadata": {},
     "output_type": "execute_result"
    }
   ],
   "source": [
    "# Create Lag Features\n",
    "df[\"cnt_lag_1h\"] = df[\"cnt\"].shift(1)  # 1 hour - useful for short term demand\n",
    "df[\"cnt_lag_1d\"] = df[\"cnt\"].shift(24)  # 24 hours - for daily patterns, commuting hours and stuff\n",
    "df[\"cnt_lag_7d\"] = df[\"cnt\"].shift(24*7)  # 7 days - captures weekly patterns, monday to friday commuting vs weekend leisure rides \n",
    "df[\"cnt_lag_30d\"] = df[\"cnt\"].shift(24*30)  # 30 days - captures seasonality, checking fluctuations in demand with weather or holidays for example \n",
    "\n",
    "# Create Rolling Mean Features\n",
    "df[\"cnt_roll_3h\"] = df[\"cnt\"].rolling(window=3).mean() # Last 3 hours - helps smooth random fluctuations\n",
    "df[\"cnt_roll_6h\"] = df[\"cnt\"].rolling(window=6).mean() # last 6 hours - helps compare morning vs evening demand\n",
    "df[\"cnt_roll_7d\"] = df[\"cnt\"].rolling(window=24*7).mean()  # last 7 days - identifies weekly rental cycles \n",
    "# Verify new features\n",
    "df.head()\n",
    "\n",
    "df.fillna(0, inplace=True)\n",
    "\n",
    "# Check the new features\n",
    "df.head()\n"
   ]
  },
  {
   "cell_type": "markdown",
   "metadata": {},
   "source": [
    "Implement XGBoost to predict how many bikes will be rented each hour of the last week and evaluate using appropriate metrics."
   ]
  },
  {
   "cell_type": "code",
   "execution_count": 21,
   "metadata": {},
   "outputs": [
    {
     "name": "stdout",
     "output_type": "stream",
     "text": [
      "Training set size: (17211, 19)\n",
      "Test set size: (168, 19)\n"
     ]
    }
   ],
   "source": [
    "features = [col for col in df.columns if col not in [\"cnt\", \"dteday\"]]\n",
    "target = \"cnt\"\n",
    "\n",
    "X = df[features]\n",
    "y = df[\"cnt\"]\n",
    "\n",
    "test_size = 24 * 7 #final week\n",
    "\n",
    "# Train-Test Split\n",
    "X_train, X_test = X.iloc[:-test_size], X.iloc[-test_size:]\n",
    "y_train, y_test = y.iloc[:-test_size], y.iloc[-test_size:]\n",
    "\n",
    "# Print dataset sizes to confirm\n",
    "print(\"Training set size:\", X_train.shape)\n",
    "print(\"Test set size:\", X_test.shape)\n",
    "\n"
   ]
  },
  {
   "cell_type": "code",
   "execution_count": 26,
   "metadata": {},
   "outputs": [
    {
     "name": "stdout",
     "output_type": "stream",
     "text": [
      "[0]\ttrain-rmse:180.31731\teval-rmse:135.66675\n"
     ]
    },
    {
     "name": "stderr",
     "output_type": "stream",
     "text": [
      "c:\\Users\\abjar\\AppData\\Local\\Programs\\Python\\Python310\\lib\\site-packages\\xgboost\\core.py:723: FutureWarning: Pass `evals` as keyword args.\n",
      "  warnings.warn(msg, FutureWarning)\n"
     ]
    },
    {
     "name": "stdout",
     "output_type": "stream",
     "text": [
      "[100]\ttrain-rmse:91.47233\teval-rmse:63.54666\n",
      "[200]\ttrain-rmse:62.92528\teval-rmse:42.22567\n",
      "[300]\ttrain-rmse:52.96873\teval-rmse:34.92615\n",
      "[400]\ttrain-rmse:48.44719\teval-rmse:31.98732\n",
      "[500]\ttrain-rmse:45.44360\teval-rmse:30.13758\n",
      "[600]\ttrain-rmse:43.51091\teval-rmse:28.79088\n",
      "[700]\ttrain-rmse:41.75116\teval-rmse:27.36691\n",
      "[800]\ttrain-rmse:40.36388\teval-rmse:26.75105\n",
      "[900]\ttrain-rmse:39.38754\teval-rmse:26.52922\n",
      "[999]\ttrain-rmse:38.34535\teval-rmse:26.38441\n"
     ]
    }
   ],
   "source": [
    "dtrain = xgb.DMatrix(X_train, label=y_train)\n",
    "dtest = xgb.DMatrix(X_test, label=y_test)\n",
    "\n",
    "params = {\n",
    "    'objective': 'reg:squarederror',  # Objective function for regression\n",
    "    'eval_metric': 'rmse',  # Evaluation metric\n",
    "    'max_depth': 3,  # Depth of the trees\n",
    "    'learning_rate': 0.01,  # Learning rate\n",
    "    'colsample_bytree': 0.8,  # Subsample of features\n",
    "    'subsample': 0.8  # Subsample ratio\n",
    "}\n",
    "\n",
    "watchlist = [(dtrain, 'train'), (dtest, 'eval')]\n",
    "\n",
    "num_round = 1000  # Number of boosting rounds\n",
    "early_stopping_rounds = 50  # Early stopping\n",
    "\n",
    "reg = xgb.train(params, dtrain, num_round, watchlist, early_stopping_rounds=early_stopping_rounds,verbose_eval=100)\n",
    "\n",
    "y_pred_xgb = reg.predict(dtest)\n"
   ]
  },
  {
   "cell_type": "code",
   "execution_count": 27,
   "metadata": {},
   "outputs": [
    {
     "data": {
      "image/png": "[encoded data removed]",
      "text/plain": [
       "<Figure size 1200x500 with 1 Axes>"
      ]
     },
     "metadata": {},
     "output_type": "display_data"
    }
   ],
   "source": [
    "plt.figure(figsize=(12, 5))\n",
    "plt.plot(y_test.index, y_test.values, label=\"Actual Rentals\", color=\"blue\", linestyle=\"dashed\")\n",
    "plt.plot(y_test.index, y_pred_xgb, label=\"Predicted Rentals\", color=\"red\")\n",
    "plt.title(\"Actual vs Predicted Bike Rentals (Last Week)\")\n",
    "plt.xlabel(\"Time\")\n",
    "plt.ylabel(\"Bike Rentals\")\n",
    "plt.legend()\n",
    "plt.show()\n"
   ]
  },
  {
   "cell_type": "markdown",
   "metadata": {},
   "source": [
    "now just to evaluate rmse and r2 "
   ]
  },
  {
   "cell_type": "code",
   "execution_count": null,
   "metadata": {},
   "outputs": [
    {
     "name": "stdout",
     "output_type": "stream",
     "text": [
      "Test RMSE:  26.38441276550293\n",
      "test r2:  0.867483377456665\n"
     ]
    }
   ],
   "source": [
    "rmse = root_mean_squared_error(y_test, y_pred_xgb)\n",
    "r2 = r2_score(y_test, y_pred_xgb)\n",
    "\n",
    "print(\"Test RMSE: \", rmse)\n",
    "print(\"test r2: \", r2)"
   ]
  },
  {
   "cell_type": "markdown",
   "metadata": {},
   "source": [
    "looking at both the rmse, r2 and the graph above its safe to say that the predictive model is accurate at predicting bike rentals, it can predict around 85% of variance in bike sales, which is fairly high "
   ]
  }
 ],
 "metadata": {
  "colab": {
   "provenance": []
  },
  "kernelspec": {
   "display_name": "Python 3",
   "name": "python3"
  },
  "language_info": {
   "codemirror_mode": {
    "name": "ipython",
    "version": 3
   },
   "file_extension": ".py",
   "mimetype": "text/x-python",
   "name": "python",
   "nbconvert_exporter": "python",
   "pygments_lexer": "ipython3",
   "version": "3.10.11"
  }
 },
 "nbformat": 4,
 "nbformat_minor": 0
}
