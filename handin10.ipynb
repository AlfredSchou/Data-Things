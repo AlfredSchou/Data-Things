{
 "cells": [
  {
   "cell_type": "markdown",
   "id": "e22c86bb-0222-4a1b-bc99-cc19b0a937c8",
   "metadata": {},
   "source": [
    "# Exercises in Recommender systems\n",
    "\n",
    "This notebook contains exercises in Recommender systems"
   ]
  },
  {
   "cell_type": "code",
   "execution_count": 1,
   "id": "4b330364-859c-4e63-9c3f-4a7c6db8b210",
   "metadata": {},
   "outputs": [],
   "source": [
    "import pandas as pd\n",
    "from sklearn.feature_extraction.text import TfidfVectorizer\n",
    "from sklearn.metrics.pairwise import cosine_similarity\n"
   ]
  },
  {
   "cell_type": "markdown",
   "id": "ec3d5bd8-7a3d-4c08-b89f-7bf6934e7c1a",
   "metadata": {},
   "source": [
    "## Exercise 1\n",
    "\n",
    "Using the \"Coursera Courses Dataset 2021\" available at kaggle ([https://www.kaggle.com/datasets/khusheekapoor/coursera-courses-dataset-2021](https://www.kaggle.com/datasets/khusheekapoor/coursera-courses-dataset-2021)) or on moodle, to do the following:\n",
    "\n",
    "1. Create a Content-based filtering recommender system based on the Course Descriptions.\n",
    "2. Create a Content-based filtering recommender system based on the Skills.\n",
    "\n",
    "Using the \"Book Recommendation Dataset\" available at kaggle ([https://www.kaggle.com/datasets/arashnic/book-recommendation-dataset](https://www.kaggle.com/datasets/arashnic/book-recommendation-dataset)) or on moodle, to do the following:\n",
    "\n",
    "3. Load in the `Ratings.csv` file (on moodle, it is called `Books_Ratings.csv`). Group by `User-ID` and sort by `Book-Rating` in descending order to get the users who rated most books. Filter the rating data to only contain the 200 users that rated most books.\n",
    "4. Create a Collaborative filtering recommender system based on the user ratings from 3 together with the `Books.csv` dataset."
   ]
  },
  {
   "cell_type": "markdown",
   "id": "07ae69c9",
   "metadata": {},
   "source": [
    "1. Create a Content-based filtering recommender system based on the Course Descriptions."
   ]
  },
  {
   "cell_type": "code",
   "execution_count": null,
   "id": "b47623a3-48c8-422e-a095-f5b2b503b853",
   "metadata": {},
   "outputs": [
    {
     "name": "stdout",
     "output_type": "stream",
     "text": [
      "<class 'pandas.core.frame.DataFrame'>\n",
      "RangeIndex: 3522 entries, 0 to 3521\n",
      "Data columns (total 7 columns):\n",
      " #   Column              Non-Null Count  Dtype \n",
      "---  ------              --------------  ----- \n",
      " 0   Course Name         3522 non-null   object\n",
      " 1   University          3522 non-null   object\n",
      " 2   Difficulty Level    3522 non-null   object\n",
      " 3   Course Rating       3522 non-null   object\n",
      " 4   Course URL          3522 non-null   object\n",
      " 5   Course Description  3522 non-null   object\n",
      " 6   Skills              3522 non-null   object\n",
      "dtypes: object(7)\n",
      "memory usage: 192.7+ KB\n",
      "None\n"
     ]
    }
   ],
   "source": [
    "# Load the dataset\n",
    "df = pd.read_csv(\"Coursera.csv\")\n",
    "\n",
    "# Display dataset structure\n",
    "print(df.info())\n",
    "\n"
   ]
  },
  {
   "cell_type": "code",
   "execution_count": 3,
   "id": "4b3ad982",
   "metadata": {},
   "outputs": [
    {
     "data": {
      "text/html": [
       "<div>\n",
       "<style scoped>\n",
       "    .dataframe tbody tr th:only-of-type {\n",
       "        vertical-align: middle;\n",
       "    }\n",
       "\n",
       "    .dataframe tbody tr th {\n",
       "        vertical-align: top;\n",
       "    }\n",
       "\n",
       "    .dataframe thead th {\n",
       "        text-align: right;\n",
       "    }\n",
       "</style>\n",
       "<table border=\"1\" class=\"dataframe\">\n",
       "  <thead>\n",
       "    <tr style=\"text-align: right;\">\n",
       "      <th></th>\n",
       "      <th>Course Name</th>\n",
       "      <th>Course Description</th>\n",
       "    </tr>\n",
       "  </thead>\n",
       "  <tbody>\n",
       "    <tr>\n",
       "      <th>0</th>\n",
       "      <td>Write A Feature Length Screenplay For Film Or ...</td>\n",
       "      <td>Write a Full Length Feature Film Script  In th...</td>\n",
       "    </tr>\n",
       "    <tr>\n",
       "      <th>1</th>\n",
       "      <td>Business Strategy: Business Model Canvas Analy...</td>\n",
       "      <td>By the end of this guided project, you will be...</td>\n",
       "    </tr>\n",
       "    <tr>\n",
       "      <th>2</th>\n",
       "      <td>Silicon Thin Film Solar Cells</td>\n",
       "      <td>This course consists of a general presentation...</td>\n",
       "    </tr>\n",
       "    <tr>\n",
       "      <th>3</th>\n",
       "      <td>Finance for Managers</td>\n",
       "      <td>When it comes to numbers, there is always more...</td>\n",
       "    </tr>\n",
       "    <tr>\n",
       "      <th>4</th>\n",
       "      <td>Retrieve Data using Single-Table SQL Queries</td>\n",
       "      <td>In this course you�ll learn how to effectively...</td>\n",
       "    </tr>\n",
       "  </tbody>\n",
       "</table>\n",
       "</div>"
      ],
      "text/plain": [
       "                                         Course Name  \\\n",
       "0  Write A Feature Length Screenplay For Film Or ...   \n",
       "1  Business Strategy: Business Model Canvas Analy...   \n",
       "2                      Silicon Thin Film Solar Cells   \n",
       "3                               Finance for Managers   \n",
       "4       Retrieve Data using Single-Table SQL Queries   \n",
       "\n",
       "                                  Course Description  \n",
       "0  Write a Full Length Feature Film Script  In th...  \n",
       "1  By the end of this guided project, you will be...  \n",
       "2  This course consists of a general presentation...  \n",
       "3  When it comes to numbers, there is always more...  \n",
       "4  In this course you�ll learn how to effectively...  "
      ]
     },
     "execution_count": 3,
     "metadata": {},
     "output_type": "execute_result"
    }
   ],
   "source": [
    "df_course = df[['Course Name', 'Course Description']].dropna()\n",
    "\n",
    "# Display first few rows\n",
    "df_course.head()\n"
   ]
  },
  {
   "cell_type": "code",
   "execution_count": 11,
   "id": "c9d3ae9e",
   "metadata": {},
   "outputs": [
    {
     "name": "stdout",
     "output_type": "stream",
     "text": [
      "(3522, 3522)\n"
     ]
    }
   ],
   "source": [
    "# Define TF-IDF Vectorizer\n",
    "tfidf_vectorizer_desc = TfidfVectorizer(stop_words='english')\n",
    "\n",
    "# Transform the course descriptions into TF-IDF matrix\n",
    "tfidf_matrix_desc = tfidf_vectorizer_desc.fit_transform(df_course['Course Description'])\n",
    "\n",
    "# Compute cosine similarity\n",
    "cosine_sim_desc = cosine_similarity(tfidf_matrix_desc, tfidf_matrix_desc)\n",
    "\n",
    "# Print shape\n",
    "print(cosine_sim_desc.shape)\n"
   ]
  },
  {
   "cell_type": "code",
   "execution_count": 13,
   "id": "bce31482",
   "metadata": {},
   "outputs": [
    {
     "data": {
      "text/html": [
       "<div>\n",
       "<style scoped>\n",
       "    .dataframe tbody tr th:only-of-type {\n",
       "        vertical-align: middle;\n",
       "    }\n",
       "\n",
       "    .dataframe tbody tr th {\n",
       "        vertical-align: top;\n",
       "    }\n",
       "\n",
       "    .dataframe thead th {\n",
       "        text-align: right;\n",
       "    }\n",
       "</style>\n",
       "<table border=\"1\" class=\"dataframe\">\n",
       "  <thead>\n",
       "    <tr style=\"text-align: right;\">\n",
       "      <th></th>\n",
       "      <th>Course Name</th>\n",
       "      <th>Course Description</th>\n",
       "    </tr>\n",
       "  </thead>\n",
       "  <tbody>\n",
       "    <tr>\n",
       "      <th>1839</th>\n",
       "      <td>Fundamentals of financial and management accou...</td>\n",
       "      <td>This is an introductory course on financial an...</td>\n",
       "    </tr>\n",
       "    <tr>\n",
       "      <th>1891</th>\n",
       "      <td>Accounting and Finance for IT professionals</td>\n",
       "      <td>This course presents an introduction to the ba...</td>\n",
       "    </tr>\n",
       "    <tr>\n",
       "      <th>1985</th>\n",
       "      <td>Introduction to Finance: The Basics</td>\n",
       "      <td>In the Introduction to Finance I: The Basics c...</td>\n",
       "    </tr>\n",
       "    <tr>\n",
       "      <th>419</th>\n",
       "      <td>Finance for Non-Financial Managers</td>\n",
       "      <td>Finance is for �Non-financial Managers� who wa...</td>\n",
       "    </tr>\n",
       "    <tr>\n",
       "      <th>1164</th>\n",
       "      <td>Corporate Finance Essentials</td>\n",
       "      <td>Corporate Finance Essentials will enable you t...</td>\n",
       "    </tr>\n",
       "  </tbody>\n",
       "</table>\n",
       "</div>"
      ],
      "text/plain": [
       "                                            Course Name  \\\n",
       "1839  Fundamentals of financial and management accou...   \n",
       "1891        Accounting and Finance for IT professionals   \n",
       "1985                Introduction to Finance: The Basics   \n",
       "419                  Finance for Non-Financial Managers   \n",
       "1164                       Corporate Finance Essentials   \n",
       "\n",
       "                                     Course Description  \n",
       "1839  This is an introductory course on financial an...  \n",
       "1891  This course presents an introduction to the ba...  \n",
       "1985  In the Introduction to Finance I: The Basics c...  \n",
       "419   Finance is for �Non-financial Managers� who wa...  \n",
       "1164  Corporate Finance Essentials will enable you t...  "
      ]
     },
     "execution_count": 13,
     "metadata": {},
     "output_type": "execute_result"
    }
   ],
   "source": [
    "def recommend_courses_by_description(course_name, num_recommendations=5):\n",
    "    if course_name not in df['Course Name'].values:\n",
    "        return \"Course not found in dataset!\"\n",
    "    \n",
    "    # Get index of the course\n",
    "    idx = df[df['Course Name'] == course_name].index[0]\n",
    "\n",
    "    # Get similarity scores\n",
    "    sim_scores = list(enumerate(cosine_sim_desc[idx]))\n",
    "\n",
    "    # Sort courses by similarity\n",
    "    sim_scores = sorted(sim_scores, key=lambda x: x[1], reverse=True)[1:num_recommendations+1]\n",
    "\n",
    "    # Get indices of recommended courses\n",
    "    course_indices = [i[0] for i in sim_scores]\n",
    "\n",
    "    # Return recommended courses\n",
    "    return df.iloc[course_indices][['Course Name', 'Course Description']]\n",
    "\n",
    "# Example usage\n",
    "recommend_courses_by_description(\"Finance for Managers\", num_recommendations=5)\n"
   ]
  },
  {
   "cell_type": "markdown",
   "id": "623db069",
   "metadata": {},
   "source": [
    "2. Create a Content-based filtering recommender system based on the Skills."
   ]
  },
  {
   "cell_type": "code",
   "execution_count": 6,
   "id": "c30be17a",
   "metadata": {},
   "outputs": [
    {
     "data": {
      "text/html": [
       "<div>\n",
       "<style scoped>\n",
       "    .dataframe tbody tr th:only-of-type {\n",
       "        vertical-align: middle;\n",
       "    }\n",
       "\n",
       "    .dataframe tbody tr th {\n",
       "        vertical-align: top;\n",
       "    }\n",
       "\n",
       "    .dataframe thead th {\n",
       "        text-align: right;\n",
       "    }\n",
       "</style>\n",
       "<table border=\"1\" class=\"dataframe\">\n",
       "  <thead>\n",
       "    <tr style=\"text-align: right;\">\n",
       "      <th></th>\n",
       "      <th>Course Name</th>\n",
       "      <th>Skills</th>\n",
       "    </tr>\n",
       "  </thead>\n",
       "  <tbody>\n",
       "    <tr>\n",
       "      <th>0</th>\n",
       "      <td>Write A Feature Length Screenplay For Film Or ...</td>\n",
       "      <td>Drama  Comedy  peering  screenwriting  film  D...</td>\n",
       "    </tr>\n",
       "    <tr>\n",
       "      <th>1</th>\n",
       "      <td>Business Strategy: Business Model Canvas Analy...</td>\n",
       "      <td>Finance  business plan  persona (user experien...</td>\n",
       "    </tr>\n",
       "    <tr>\n",
       "      <th>2</th>\n",
       "      <td>Silicon Thin Film Solar Cells</td>\n",
       "      <td>chemistry  physics  Solar Energy  film  lambda...</td>\n",
       "    </tr>\n",
       "    <tr>\n",
       "      <th>3</th>\n",
       "      <td>Finance for Managers</td>\n",
       "      <td>accounts receivable  dupont analysis  analysis...</td>\n",
       "    </tr>\n",
       "    <tr>\n",
       "      <th>4</th>\n",
       "      <td>Retrieve Data using Single-Table SQL Queries</td>\n",
       "      <td>Data Analysis  select (sql)  database manageme...</td>\n",
       "    </tr>\n",
       "  </tbody>\n",
       "</table>\n",
       "</div>"
      ],
      "text/plain": [
       "                                         Course Name  \\\n",
       "0  Write A Feature Length Screenplay For Film Or ...   \n",
       "1  Business Strategy: Business Model Canvas Analy...   \n",
       "2                      Silicon Thin Film Solar Cells   \n",
       "3                               Finance for Managers   \n",
       "4       Retrieve Data using Single-Table SQL Queries   \n",
       "\n",
       "                                              Skills  \n",
       "0  Drama  Comedy  peering  screenwriting  film  D...  \n",
       "1  Finance  business plan  persona (user experien...  \n",
       "2  chemistry  physics  Solar Energy  film  lambda...  \n",
       "3  accounts receivable  dupont analysis  analysis...  \n",
       "4  Data Analysis  select (sql)  database manageme...  "
      ]
     },
     "execution_count": 6,
     "metadata": {},
     "output_type": "execute_result"
    }
   ],
   "source": [
    "df_skills = df[['Course Name', 'Skills']].dropna()\n",
    "df_skills.head()\n"
   ]
  },
  {
   "cell_type": "code",
   "execution_count": 7,
   "id": "a89ff801",
   "metadata": {},
   "outputs": [
    {
     "name": "stdout",
     "output_type": "stream",
     "text": [
      "(3522, 3522)\n"
     ]
    }
   ],
   "source": [
    "# Define TF-IDF Vectorizer\n",
    "tfidf_vectorizer_skills = TfidfVectorizer(stop_words='english')\n",
    "\n",
    "# Transform the course skills into TF-IDF matrix\n",
    "tfidf_matrix_skills = tfidf_vectorizer_skills.fit_transform(df_skills['Skills'])\n",
    "\n",
    "# Compute cosine similarity\n",
    "cosine_sim_skills = cosine_similarity(tfidf_matrix_skills, tfidf_matrix_skills)\n",
    "\n",
    "# Print shape\n",
    "print(cosine_sim_skills.shape)\n"
   ]
  },
  {
   "cell_type": "code",
   "execution_count": 18,
   "id": "5fddb0e2",
   "metadata": {},
   "outputs": [
    {
     "data": {
      "text/html": [
       "<div>\n",
       "<style scoped>\n",
       "    .dataframe tbody tr th:only-of-type {\n",
       "        vertical-align: middle;\n",
       "    }\n",
       "\n",
       "    .dataframe tbody tr th {\n",
       "        vertical-align: top;\n",
       "    }\n",
       "\n",
       "    .dataframe thead th {\n",
       "        text-align: right;\n",
       "    }\n",
       "</style>\n",
       "<table border=\"1\" class=\"dataframe\">\n",
       "  <thead>\n",
       "    <tr style=\"text-align: right;\">\n",
       "      <th></th>\n",
       "      <th>Course Name</th>\n",
       "      <th>Skills</th>\n",
       "    </tr>\n",
       "  </thead>\n",
       "  <tbody>\n",
       "    <tr>\n",
       "      <th>1228</th>\n",
       "      <td>The Language and Tools of Financial Analysis</td>\n",
       "      <td>analysis  ratio analysis  Finance  financial r...</td>\n",
       "    </tr>\n",
       "    <tr>\n",
       "      <th>1936</th>\n",
       "      <td>Formal Financial Accounting</td>\n",
       "      <td>accounts payable  Finance  Accounting  debits ...</td>\n",
       "    </tr>\n",
       "    <tr>\n",
       "      <th>1126</th>\n",
       "      <td>Financial Accounting: Foundations</td>\n",
       "      <td>financial statement  accrual  income  Financia...</td>\n",
       "    </tr>\n",
       "    <tr>\n",
       "      <th>1298</th>\n",
       "      <td>Management and financial accounting: Know your...</td>\n",
       "      <td>internality  balance sheet  Leadership and Man...</td>\n",
       "    </tr>\n",
       "    <tr>\n",
       "      <th>2995</th>\n",
       "      <td>Entrepreneurship</td>\n",
       "      <td>Entrepreneurship  interview  market (economics...</td>\n",
       "    </tr>\n",
       "  </tbody>\n",
       "</table>\n",
       "</div>"
      ],
      "text/plain": [
       "                                            Course Name  \\\n",
       "1228       The Language and Tools of Financial Analysis   \n",
       "1936                        Formal Financial Accounting   \n",
       "1126                  Financial Accounting: Foundations   \n",
       "1298  Management and financial accounting: Know your...   \n",
       "2995                                   Entrepreneurship   \n",
       "\n",
       "                                                 Skills  \n",
       "1228  analysis  ratio analysis  Finance  financial r...  \n",
       "1936  accounts payable  Finance  Accounting  debits ...  \n",
       "1126  financial statement  accrual  income  Financia...  \n",
       "1298  internality  balance sheet  Leadership and Man...  \n",
       "2995  Entrepreneurship  interview  market (economics...  "
      ]
     },
     "execution_count": 18,
     "metadata": {},
     "output_type": "execute_result"
    }
   ],
   "source": [
    "def recommend_courses_by_skills(course_name, num_recommendations=5):\n",
    "    if course_name not in df_skills['Course Name'].values:\n",
    "        return \"Course not found in dataset!\"\n",
    "    \n",
    "    # Get index of the course\n",
    "    idx = df_skills[df_skills['Course Name'] == course_name].index[0]\n",
    "\n",
    "    # Get similarity scores\n",
    "    sim_scores = list(enumerate(cosine_sim_skills[idx]))\n",
    "\n",
    "    # Sort courses by similarity\n",
    "    sim_scores = sorted(sim_scores, key=lambda x: x[1], reverse=True)[1:num_recommendations+1]\n",
    "\n",
    "    # Get indices of recommended courses\n",
    "    course_indices = [i[0] for i in sim_scores]\n",
    "\n",
    "    # Return recommended courses\n",
    "    return df_skills.iloc[course_indices][['Course Name', 'Skills']]\n",
    "\n",
    "# Example usage\n",
    "recommend_courses_by_skills(\"Finance for Managers\", 5)\n"
   ]
  },
  {
   "cell_type": "markdown",
   "id": "cf39fc70",
   "metadata": {},
   "source": [
    "3. Load in the `Ratings.csv` file (on moodle, it is called `Books_Ratings.csv`). Group by `User-ID` and sort by `Book-Rating` in descending order to get the users who rated most books. Filter the rating data to only contain the 200 users that rated most books."
   ]
  },
  {
   "cell_type": "code",
   "execution_count": null,
   "id": "04e2da91",
   "metadata": {},
   "outputs": [
    {
     "name": "stderr",
     "output_type": "stream",
     "text": [
      "C:\\Users\\abjar\\AppData\\Local\\Temp\\ipykernel_4132\\4282370794.py:16: DtypeWarning: Columns (3) have mixed types. Specify dtype option on import or set low_memory=False.\n",
      "  df_books = pd.read_csv(\"Books.csv\")\n"
     ]
    },
    {
     "name": "stdout",
     "output_type": "stream",
     "text": [
      "      User-ID        ISBN  Book-Rating\n",
      "4330   278418  0006128831            0\n",
      "4331   278418  0006542808            5\n",
      "4332   278418  0020209606            0\n",
      "4333   278418  0020418809            0\n",
      "4334   278418  0020420900            0\n",
      "   User-ID        ISBN                                         Book-Title  \\\n",
      "0   278418  0006128831                                                NaN   \n",
      "1   278418  0006542808                              Silence of the Sirens   \n",
      "2   278418  0020209606                                NEVER ALONE REISSUE   \n",
      "3   278418  0020418809                                    CADDIE WOODLAWN   \n",
      "4   278418  0020420900  Paul Revere : Boston Patriot (Childhood Of Fam...   \n",
      "\n",
      "   Book-Rating  \n",
      "0            0  \n",
      "1            5  \n",
      "2            0  \n",
      "3            0  \n",
      "4            0  \n"
     ]
    }
   ],
   "source": [
    "# Load the book ratings dataset\n",
    "df_ratings = pd.read_csv(\"Books_Ratings.csv\")\n",
    "\n",
    "# Count how many books each user has rated\n",
    "user_counts = df_ratings.groupby(\"User-ID\")[\"Book-Rating\"].count().reset_index()\n",
    "\n",
    "# Get the top 200 users with the most ratings\n",
    "top_200_users = user_counts.sort_values(by=\"Book-Rating\", ascending=False).head(200)[\"User-ID\"]\n",
    "\n",
    "# Filter ratings dataset to only include the top 200 users\n",
    "filtered_ratings = df_ratings[df_ratings[\"User-ID\"].isin(top_200_users)]\n",
    "\n",
    "# Load the books dataset\n",
    "df_books = pd.read_csv(\"Books.csv\")\n",
    "\n",
    "# Merge ratings with book details using ISBN\n",
    "df_merged = filtered_ratings.merge(df_books, on=\"ISBN\", how=\"left\")\n",
    "\n",
    "# Keep only relevant columns\n",
    "df_merged = df_merged[[\"User-ID\", \"ISBN\", \"Book-Title\", \"Book-Rating\"]]\n",
    "\n",
    "# Display dataset\n",
    "print(df_merged.head())\n"
   ]
  },
  {
   "cell_type": "markdown",
   "id": "91b3076f",
   "metadata": {},
   "source": [
    "4. Create a Collaborative filtering recommender system based on the user ratings from 3 together with the `Books.csv` dataset."
   ]
  },
  {
   "cell_type": "code",
   "execution_count": 58,
   "id": "fa9c7d8c",
   "metadata": {},
   "outputs": [
    {
     "name": "stdout",
     "output_type": "stream",
     "text": [
      "User-ID    3363      6251      6575      7346      11601     11676     12538   \\\n",
      "User-ID                                                                         \n",
      "3363     1.000000  0.000000  0.026805  0.013205  0.000000  0.022112  0.009240   \n",
      "6251     0.000000  1.000000  0.048537  0.014077  0.019330  0.037508  0.000000   \n",
      "6575     0.026805  0.048537  1.000000  0.055537  0.012073  0.063106  0.020387   \n",
      "7346     0.013205  0.014077  0.055537  1.000000  0.007492  0.051761  0.034727   \n",
      "11601    0.000000  0.019330  0.012073  0.007492  1.000000  0.020077  0.019004   \n",
      "\n",
      "User-ID    13552     15408     16634   ...    264321    265115    265313  \\\n",
      "User-ID                                ...                                 \n",
      "3363     0.007907  0.012508  0.000000  ...  0.005234  0.005454  0.000000   \n",
      "6251     0.010237  0.006046  0.020697  ...  0.013283  0.007398  0.024124   \n",
      "6575     0.021962  0.018973  0.010158  ...  0.019694  0.032359  0.012910   \n",
      "7346     0.025568  0.015265  0.009065  ...  0.015554  0.047109  0.000000   \n",
      "11601    0.000000  0.003974  0.000000  ...  0.009799  0.000000  0.010755   \n",
      "\n",
      "User-ID    266226    269566  271284    274061    274308    275970    278418  \n",
      "User-ID                                                                      \n",
      "3363     0.000000  0.000000     0.0  0.000000  0.000000  0.000000  0.000000  \n",
      "6251     0.012239  0.019953     0.0  0.000000  0.013350  0.017665  0.020751  \n",
      "6575     0.015400  0.014582     0.0  0.000000  0.025897  0.039122  0.000000  \n",
      "7346     0.017361  0.024681     0.0  0.020498  0.007373  0.021003  0.000000  \n",
      "11601    0.000000  0.000000     0.0  0.000000  0.000000  0.021897  0.020057  \n",
      "\n",
      "[5 rows x 200 columns]\n"
     ]
    }
   ],
   "source": [
    "# Create a User-Item rating matrix (Users as rows, Books as columns)\n",
    "user_item_matrix = df_merged.pivot_table(index=\"User-ID\", columns=\"Book-Title\", values=\"Book-Rating\", fill_value=0)\n",
    "\n",
    "# Compute cosine similarity between users\n",
    "user_similarity = cosine_similarity(user_item_matrix)\n",
    "\n",
    "# Convert similarity matrix into a DataFrame\n",
    "user_similarity_df = pd.DataFrame(user_similarity, index=user_item_matrix.index, columns=user_item_matrix.index)\n",
    "\n",
    "# Display similarity matrix\n",
    "print(user_similarity_df.head())\n"
   ]
  },
  {
   "cell_type": "code",
   "execution_count": 62,
   "id": "8d9668db",
   "metadata": {},
   "outputs": [],
   "source": [
    "def recommend_books(user_id, rating_matrix, user_similarity_df, df_books, top_n=5):\n",
    "    \n",
    "    if user_id not in user_similarity_df.index:\n",
    "        return \"User not found in top 200!\"\n",
    "\n",
    "    # Get similarity scores for the user, excluding themselves\n",
    "    sim_scores = user_similarity_df.loc[user_id].drop(user_id)\n",
    "\n",
    "    # Select top 5 most similar users\n",
    "    similar_users = sim_scores.sort_values(ascending=False).head(5).index\n",
    "\n",
    "    # Aggregate ratings from similar users\n",
    "    similar_ratings = rating_matrix.loc[similar_users]\n",
    "\n",
    "    # Compute the average rating for each book among these similar users\n",
    "    avg_ratings = similar_ratings.mean(axis=0)\n",
    "\n",
    "    # Find books the target user has not rated\n",
    "    target_user_ratings = rating_matrix.loc[user_id]\n",
    "    unrated_books = target_user_ratings[target_user_ratings == 0].index\n",
    "\n",
    "    # Filter ratings to only include unrated books\n",
    "    recommendations = avg_ratings.loc[unrated_books].sort_values(ascending=False).head(top_n)\n",
    "\n",
    "    # Convert index (Book-Title) to a list for merging with book details\n",
    "    recommended_books = df_books[df_books['Book-Title'].isin(recommendations.index)][['ISBN', 'Book-Title', 'Book-Author']]\n",
    "\n",
    "    return recommended_books\n"
   ]
  },
  {
   "cell_type": "code",
   "execution_count": 61,
   "id": "9c47eb0a",
   "metadata": {},
   "outputs": [
    {
     "name": "stdout",
     "output_type": "stream",
     "text": [
      "Top 10 recommended books for User 11676:\n",
      "              ISBN                                    Book-Title  \\\n",
      "1360    0671759361                    Pearl in the Mist (Landry)   \n",
      "4269    0316284955  White Oleander : A Novel (Oprah's Book Club)   \n",
      "15611   0064400026                   Little House on the Prairie   \n",
      "24362   0064400069                The Long Winter (Little House)   \n",
      "26127   0440167531                                      Palomino   \n",
      "43124   0060581859                The Long Winter (Little House)   \n",
      "108090  0060522410                The Long Winter (Little House)   \n",
      "188054  0702219487                                      Palomino   \n",
      "202942  0061070068                   Little House on the Prairie   \n",
      "219583  044056753X                                      Palomino   \n",
      "\n",
      "                 Book-Author  \n",
      "1360            V.C. Andrews  \n",
      "4269             Janet Fitch  \n",
      "15611   Laura Ingalls Wilder  \n",
      "24362   Laura Ingalls Wilder  \n",
      "26127         DANIELLE STEEL  \n",
      "43124   Laura Ingalls Wilder  \n",
      "108090  Laura Ingalls Wilder  \n",
      "188054      Elizabeth Jolley  \n",
      "202942  Laura Ingalls Wilder  \n",
      "219583        Danielle Steel  \n"
     ]
    }
   ],
   "source": [
    "example_user = top_200_users.iloc[0]  # Select the first user in the top 200\n",
    "\n",
    "top_books = recommend_books(example_user, user_item_matrix, user_similarity_df, df_books, top_n=5)\n",
    "\n",
    "print(f\"Top {len(top_books)} recommended books for User {example_user}:\")\n",
    "print(top_books)"
   ]
  },
  {
   "cell_type": "markdown",
   "id": "ff520700-6927-44c0-8ec6-4133b87bd485",
   "metadata": {},
   "source": [
    "## Exercise 2\n",
    "\n",
    "Using the \"Coursera Courses Dataset 2021\" from Exercise 1, to do the following:\n",
    "\n",
    "1. [Optional] Create a Content-based filtering recommender system based on both the Course Descriptions and the Skills.\n",
    "2. [Optional] Can you come up with a way of including Difficulty Level and Course Rating in your recommender system?"
   ]
  },
  {
   "cell_type": "code",
   "execution_count": null,
   "id": "0d88e9f5-91fd-430b-a9e4-957993639f5e",
   "metadata": {},
   "outputs": [],
   "source": []
  }
 ],
 "metadata": {
  "kernelspec": {
   "display_name": "Python 3",
   "language": "python",
   "name": "python3"
  },
  "language_info": {
   "codemirror_mode": {
    "name": "ipython",
    "version": 3
   },
   "file_extension": ".py",
   "mimetype": "text/x-python",
   "name": "python",
   "nbconvert_exporter": "python",
   "pygments_lexer": "ipython3",
   "version": "3.10.11"
  }
 },
 "nbformat": 4,
 "nbformat_minor": 5
}
