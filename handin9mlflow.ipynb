{
 "cells": [
  {
   "cell_type": "markdown",
   "metadata": {},
   "source": [
    "## Execise 1\n",
    "\n",
    "In this exercise, do the following:\n",
    "1. Load the dataset used in the time series example - Energy consumption data. You can find it in the notebook \"TSA_Example\" in Time Series folder in Moodle.\n",
    "2. Setup a nested MLFlow loop where different modelling experiments can be tracked and the use the dataset in point 1 to experiment and track models. You should do following combinations:\n",
    "    1. At least 3 model types\n",
    "    2. At least 3 different feature combinations\n",
    "    3. At least 3 different options for 3 different hyperparameters\n",
    "    4. At least 3 different time splits for train test\n",
    "3. For each option in the combination, you should calculate & log the following in MLFlow:\n",
    "    1. RMSE\n",
    "    2. MAE\n",
    "    3. Plot of actual vs predicted for 1 month data\n",
    "    4. Plot of actual vs predicted for 1 week of data\n",
    "    5. All of the combination info in point 2, such as which model, what feature combindation, what hyperparameter, what train test split has been used\n",
    "4. Turn on MLFlow UI and track your experiments"
   ]
  },
  {
   "cell_type": "code",
   "execution_count": 1,
   "metadata": {},
   "outputs": [],
   "source": [
    "import mlflow\n",
    "import mlflow.sklearn\n",
    "import pandas as pd\n",
    "import numpy as np\n",
    "import matplotlib.pyplot as plt\n",
    "from sklearn.model_selection import TimeSeriesSplit\n",
    "from sklearn.ensemble import RandomForestRegressor\n",
    "from sklearn.linear_model import LinearRegression\n",
    "from xgboost import XGBRegressor\n",
    "from sklearn.metrics import mean_absolute_error, mean_squared_error, r2_score\n",
    "import os "
   ]
  },
  {
   "cell_type": "markdown",
   "metadata": {},
   "source": [
    "1. Load the dataset used in the time series example - Energy consumption data. You can find it in the notebook \"TSA_Example\" in Time Series folder in Moodle."
   ]
  },
  {
   "cell_type": "code",
   "execution_count": 2,
   "metadata": {},
   "outputs": [
    {
     "name": "stdout",
     "output_type": "stream",
     "text": [
      "   RelativeCompactness  SurfaceArea  WallArea  RoofArea  OverallHeight  \\\n",
      "0                 0.98        514.5     294.0    110.25            7.0   \n",
      "1                 0.98        514.5     294.0    110.25            7.0   \n",
      "2                 0.98        514.5     294.0    110.25            7.0   \n",
      "3                 0.98        514.5     294.0    110.25            7.0   \n",
      "4                 0.90        563.5     318.5    122.50            7.0   \n",
      "\n",
      "   Orientation  GlazingArea  GlazingAreaDistribution  HeatingLoad  CoolingLoad  \n",
      "0            2          0.0                        0        15.55        21.33  \n",
      "1            3          0.0                        0        15.55        21.33  \n",
      "2            4          0.0                        0        15.55        21.33  \n",
      "3            5          0.0                        0        15.55        21.33  \n",
      "4            2          0.0                        0        20.84        28.28  \n"
     ]
    },
    {
     "data": {
      "text/html": [
       "<div>\n",
       "<style scoped>\n",
       "    .dataframe tbody tr th:only-of-type {\n",
       "        vertical-align: middle;\n",
       "    }\n",
       "\n",
       "    .dataframe tbody tr th {\n",
       "        vertical-align: top;\n",
       "    }\n",
       "\n",
       "    .dataframe thead th {\n",
       "        text-align: right;\n",
       "    }\n",
       "</style>\n",
       "<table border=\"1\" class=\"dataframe\">\n",
       "  <thead>\n",
       "    <tr style=\"text-align: right;\">\n",
       "      <th></th>\n",
       "      <th>RelativeCompactness</th>\n",
       "      <th>SurfaceArea</th>\n",
       "      <th>WallArea</th>\n",
       "      <th>RoofArea</th>\n",
       "      <th>OverallHeight</th>\n",
       "      <th>Orientation</th>\n",
       "      <th>GlazingArea</th>\n",
       "      <th>GlazingAreaDistribution</th>\n",
       "      <th>HeatingLoad</th>\n",
       "      <th>CoolingLoad</th>\n",
       "    </tr>\n",
       "  </thead>\n",
       "  <tbody>\n",
       "    <tr>\n",
       "      <th>count</th>\n",
       "      <td>768.000000</td>\n",
       "      <td>768.000000</td>\n",
       "      <td>768.000000</td>\n",
       "      <td>768.000000</td>\n",
       "      <td>768.00000</td>\n",
       "      <td>768.000000</td>\n",
       "      <td>768.000000</td>\n",
       "      <td>768.00000</td>\n",
       "      <td>768.000000</td>\n",
       "      <td>768.000000</td>\n",
       "    </tr>\n",
       "    <tr>\n",
       "      <th>mean</th>\n",
       "      <td>0.764167</td>\n",
       "      <td>671.708333</td>\n",
       "      <td>318.500000</td>\n",
       "      <td>176.604167</td>\n",
       "      <td>5.25000</td>\n",
       "      <td>3.500000</td>\n",
       "      <td>0.234375</td>\n",
       "      <td>2.81250</td>\n",
       "      <td>22.307201</td>\n",
       "      <td>24.587760</td>\n",
       "    </tr>\n",
       "    <tr>\n",
       "      <th>std</th>\n",
       "      <td>0.105777</td>\n",
       "      <td>88.086116</td>\n",
       "      <td>43.626481</td>\n",
       "      <td>45.165950</td>\n",
       "      <td>1.75114</td>\n",
       "      <td>1.118763</td>\n",
       "      <td>0.133221</td>\n",
       "      <td>1.55096</td>\n",
       "      <td>10.090196</td>\n",
       "      <td>9.513306</td>\n",
       "    </tr>\n",
       "    <tr>\n",
       "      <th>min</th>\n",
       "      <td>0.620000</td>\n",
       "      <td>514.500000</td>\n",
       "      <td>245.000000</td>\n",
       "      <td>110.250000</td>\n",
       "      <td>3.50000</td>\n",
       "      <td>2.000000</td>\n",
       "      <td>0.000000</td>\n",
       "      <td>0.00000</td>\n",
       "      <td>6.010000</td>\n",
       "      <td>10.900000</td>\n",
       "    </tr>\n",
       "    <tr>\n",
       "      <th>25%</th>\n",
       "      <td>0.682500</td>\n",
       "      <td>606.375000</td>\n",
       "      <td>294.000000</td>\n",
       "      <td>140.875000</td>\n",
       "      <td>3.50000</td>\n",
       "      <td>2.750000</td>\n",
       "      <td>0.100000</td>\n",
       "      <td>1.75000</td>\n",
       "      <td>12.992500</td>\n",
       "      <td>15.620000</td>\n",
       "    </tr>\n",
       "    <tr>\n",
       "      <th>50%</th>\n",
       "      <td>0.750000</td>\n",
       "      <td>673.750000</td>\n",
       "      <td>318.500000</td>\n",
       "      <td>183.750000</td>\n",
       "      <td>5.25000</td>\n",
       "      <td>3.500000</td>\n",
       "      <td>0.250000</td>\n",
       "      <td>3.00000</td>\n",
       "      <td>18.950000</td>\n",
       "      <td>22.080000</td>\n",
       "    </tr>\n",
       "    <tr>\n",
       "      <th>75%</th>\n",
       "      <td>0.830000</td>\n",
       "      <td>741.125000</td>\n",
       "      <td>343.000000</td>\n",
       "      <td>220.500000</td>\n",
       "      <td>7.00000</td>\n",
       "      <td>4.250000</td>\n",
       "      <td>0.400000</td>\n",
       "      <td>4.00000</td>\n",
       "      <td>31.667500</td>\n",
       "      <td>33.132500</td>\n",
       "    </tr>\n",
       "    <tr>\n",
       "      <th>max</th>\n",
       "      <td>0.980000</td>\n",
       "      <td>808.500000</td>\n",
       "      <td>416.500000</td>\n",
       "      <td>220.500000</td>\n",
       "      <td>7.00000</td>\n",
       "      <td>5.000000</td>\n",
       "      <td>0.400000</td>\n",
       "      <td>5.00000</td>\n",
       "      <td>43.100000</td>\n",
       "      <td>48.030000</td>\n",
       "    </tr>\n",
       "  </tbody>\n",
       "</table>\n",
       "</div>"
      ],
      "text/plain": [
       "       RelativeCompactness  SurfaceArea    WallArea    RoofArea  \\\n",
       "count           768.000000   768.000000  768.000000  768.000000   \n",
       "mean              0.764167   671.708333  318.500000  176.604167   \n",
       "std               0.105777    88.086116   43.626481   45.165950   \n",
       "min               0.620000   514.500000  245.000000  110.250000   \n",
       "25%               0.682500   606.375000  294.000000  140.875000   \n",
       "50%               0.750000   673.750000  318.500000  183.750000   \n",
       "75%               0.830000   741.125000  343.000000  220.500000   \n",
       "max               0.980000   808.500000  416.500000  220.500000   \n",
       "\n",
       "       OverallHeight  Orientation  GlazingArea  GlazingAreaDistribution  \\\n",
       "count      768.00000   768.000000   768.000000                768.00000   \n",
       "mean         5.25000     3.500000     0.234375                  2.81250   \n",
       "std          1.75114     1.118763     0.133221                  1.55096   \n",
       "min          3.50000     2.000000     0.000000                  0.00000   \n",
       "25%          3.50000     2.750000     0.100000                  1.75000   \n",
       "50%          5.25000     3.500000     0.250000                  3.00000   \n",
       "75%          7.00000     4.250000     0.400000                  4.00000   \n",
       "max          7.00000     5.000000     0.400000                  5.00000   \n",
       "\n",
       "       HeatingLoad  CoolingLoad  \n",
       "count   768.000000   768.000000  \n",
       "mean     22.307201    24.587760  \n",
       "std      10.090196     9.513306  \n",
       "min       6.010000    10.900000  \n",
       "25%      12.992500    15.620000  \n",
       "50%      18.950000    22.080000  \n",
       "75%      31.667500    33.132500  \n",
       "max      43.100000    48.030000  "
      ]
     },
     "execution_count": 2,
     "metadata": {},
     "output_type": "execute_result"
    }
   ],
   "source": [
    "\n",
    "# Define the file path\n",
    "file_path = \"data/EnergyEfficiency.csv\"\n",
    "\n",
    "# Load the dataset\n",
    "data = pd.read_csv(file_path)\n",
    "\n",
    "# Display the first few rows\n",
    "print(data.head())\n",
    "data.describe()\n"
   ]
  },
  {
   "cell_type": "markdown",
   "metadata": {},
   "source": [
    "2. Setup a nested MLFlow loop where different modelling experiments can be tracked and the use the dataset in point 1 to experiment and track models. You should do following combinations:\n",
    "    1. At least 3 model types\n",
    "    2. At least 3 different feature combinations\n",
    "    3. At least 3 different options for 3 different hyperparameters\n",
    "    4. At least 3 different time splits for train test"
   ]
  },
  {
   "cell_type": "markdown",
   "metadata": {},
   "source": [
    "1. At least 3 model types"
   ]
  },
  {
   "cell_type": "code",
   "execution_count": 3,
   "metadata": {},
   "outputs": [],
   "source": [
    "models = {\n",
    "    \"LinearRegression\": LinearRegression(),\n",
    "    \"RandomForest\": RandomForestRegressor(),\n",
    "    \"XGBoost\": XGBRegressor()\n",
    "}"
   ]
  },
  {
   "cell_type": "markdown",
   "metadata": {},
   "source": [
    "2. At least 3 different feature combinations"
   ]
  },
  {
   "cell_type": "code",
   "execution_count": 4,
   "metadata": {},
   "outputs": [],
   "source": [
    "# Define feature subsets\n",
    "feature_combinations = [\n",
    "    [\"RelativeCompactness\", \"SurfaceArea\", \"WallArea\"],\n",
    "    [\"RoofArea\", \"OverallHeight\", \"GlazingArea\"],\n",
    "    [\"RelativeCompactness\", \"SurfaceArea\", \"WallArea\", \"RoofArea\", \"OverallHeight\", \"GlazingArea\"]\n",
    "]\n",
    "\n",
    "target = \"HeatingLoad\""
   ]
  },
  {
   "cell_type": "markdown",
   "metadata": {},
   "source": [
    "3. At least 3 different options for 3 different hyperparameters"
   ]
  },
  {
   "cell_type": "code",
   "execution_count": 5,
   "metadata": {},
   "outputs": [],
   "source": [
    "hyperparameters = {\n",
    "    \"LinearRegression\": {\"fit_intercept\": [True, False]},\n",
    "    \"RandomForest\": {\"n_estimators\": [50, 100, 200], \"max_depth\": [None, 10, 20]},\n",
    "    \"XGBoost\": {\"n_estimators\": [50, 100, 200], \"learning_rate\": [0.01, 0.1, 0.2]}\n",
    "}"
   ]
  },
  {
   "cell_type": "markdown",
   "metadata": {},
   "source": [
    "4. At least 3 different time splits for train test"
   ]
  },
  {
   "cell_type": "code",
   "execution_count": 6,
   "metadata": {},
   "outputs": [],
   "source": [
    "# Define time-based splits\n",
    "ts_splits = [3, 5, 7]"
   ]
  },
  {
   "cell_type": "markdown",
   "metadata": {},
   "source": [
    "lets create the test split "
   ]
  },
  {
   "cell_type": "code",
   "execution_count": 7,
   "metadata": {},
   "outputs": [],
   "source": [
    "def split_data(features, ts_split):\n",
    "    tscv = TimeSeriesSplit(n_splits=ts_split)\n",
    "    X = data[features]\n",
    "    y = data[target]\n",
    "    \n",
    "    for train_idx, test_idx in tscv.split(X):\n",
    "        yield X.iloc[train_idx], X.iloc[test_idx], y.iloc[train_idx], y.iloc[test_idx]"
   ]
  },
  {
   "cell_type": "markdown",
   "metadata": {},
   "source": [
    "3. For each option in the combination, you should calculate & log the following in MLFlow:\n",
    "    1. RMSE\n",
    "    2. MAE\n",
    "    3. Plot of actual vs predicted for 1 month data\n",
    "    4. Plot of actual vs predicted for 1 week of data\n",
    "    5. All of the combination info in point 2, such as which model, what feature combindation, what hyperparameter, what train test split has been used"
   ]
  },
  {
   "cell_type": "code",
   "execution_count": 8,
   "metadata": {},
   "outputs": [
    {
     "name": "stdout",
     "output_type": "stream",
     "text": [
      "MLflow tracking complete!\n"
     ]
    }
   ],
   "source": [
    "# Start MLflow Experiment\n",
    "mlflow.set_experiment(\"Energy_Consumption_Modeling\")\n",
    "\n",
    "for features in feature_combinations:\n",
    "    for ts_split in ts_splits:\n",
    "        for X_train, X_test, y_train, y_test in split_data(features, ts_split):\n",
    "            for model_name, model in models.items():\n",
    "                with mlflow.start_run(run_name=f\"{model_name}_Experiment\", nested=True):\n",
    "                    mlflow.log_param(\"Features\", \", \".join(features))\n",
    "                    mlflow.log_param(\"Time_Split\", ts_split)\n",
    "\n",
    "                    model.fit(X_train, y_train)\n",
    "                    predictions = model.predict(X_test)\n",
    "\n",
    "                    # Calculate metrics\n",
    "                    mae = mean_absolute_error(y_test, predictions)\n",
    "                    mse = mean_squared_error(y_test, predictions)\n",
    "                    rmse = np.sqrt(mse)\n",
    "                    r2 = r2_score(y_test, predictions)\n",
    "\n",
    "                    # Log metrics\n",
    "                    mlflow.log_metric(\"MAE\", mae)\n",
    "                    mlflow.log_metric(\"MSE\", mse)\n",
    "                    mlflow.log_metric(\"RMSE\", rmse)\n",
    "                    mlflow.log_metric(\"R2\", r2)\n",
    "\n",
    "                    # Plot actual vs predicted for 1 month and 1 week\n",
    "                    plt.figure(figsize=(10, 4))\n",
    "                    plt.plot(y_test[:30].values, label=\"Actual\", marker='o')  # 1 month (~30 days)\n",
    "                    plt.plot(predictions[:30], label=\"Predicted\", marker='x')\n",
    "                    plt.title(\"Actual vs Predicted (1 Month)\")\n",
    "                    plt.legend()\n",
    "                    plot_path_1m = f\"actual_vs_predicted_1m_{model_name}.png\"\n",
    "                    plt.savefig(plot_path_1m)\n",
    "                    mlflow.log_artifact(plot_path_1m)\n",
    "                    plt.close()\n",
    "                    \n",
    "                    plt.figure(figsize=(10, 4))\n",
    "                    plt.plot(y_test[:7].values, label=\"Actual\", marker='o')  # 1 week (~7 days)\n",
    "                    plt.plot(predictions[:7], label=\"Predicted\", marker='x')\n",
    "                    plt.title(\"Actual vs Predicted (1 Week)\")\n",
    "                    plt.legend()\n",
    "                    plot_path_1w = f\"actual_vs_predicted_1w_{model_name}.png\"\n",
    "                    plt.savefig(plot_path_1w)\n",
    "                    mlflow.log_artifact(plot_path_1w)\n",
    "                    plt.close()\n",
    "\n",
    "                    # Remove saved plots after logging to MLflow\n",
    "                    os.remove(plot_path_1m)\n",
    "                    os.remove(plot_path_1w)\n",
    "\n",
    "print(\"MLflow tracking complete!\")"
   ]
  },
  {
   "cell_type": "markdown",
   "metadata": {},
   "source": [
    "4. Turn on MLFlow UI and track your experiments"
   ]
  },
  {
   "cell_type": "code",
   "execution_count": null,
   "metadata": {},
   "outputs": [
    {
     "name": "stdout",
     "output_type": "stream",
     "text": [
      "^C\n"
     ]
    }
   ],
   "source": [
    "!mlflow ui"
   ]
  }
 ],
 "metadata": {
  "kernelspec": {
   "display_name": "Python 3",
   "language": "python",
   "name": "python3"
  },
  "language_info": {
   "codemirror_mode": {
    "name": "ipython",
    "version": 3
   },
   "file_extension": ".py",
   "mimetype": "text/x-python",
   "name": "python",
   "nbconvert_exporter": "python",
   "pygments_lexer": "ipython3",
   "version": "3.10.11"
  }
 },
 "nbformat": 4,
 "nbformat_minor": 2
}
